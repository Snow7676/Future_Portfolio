{
 "cells": [
  {
   "cell_type": "markdown",
   "id": "a397fd92",
   "metadata": {},
   "source": [
    "SQL prompts with splite3"
   ]
  },
  {
   "cell_type": "code",
   "execution_count": 2,
   "id": "7eb38b5c",
   "metadata": {},
   "outputs": [],
   "source": [
    "import sqlite3"
   ]
  },
  {
   "cell_type": "markdown",
   "id": "d49bfcd6",
   "metadata": {},
   "source": [
    "    1. Connect to the petsDB and check whether the connection has been successful."
   ]
  },
  {
   "cell_type": "code",
   "execution_count": 3,
   "id": "b2ce95e9",
   "metadata": {},
   "outputs": [],
   "source": [
    "conn = sqlite3.connect(\"petsdb\")"
   ]
  },
  {
   "cell_type": "code",
   "execution_count": 4,
   "id": "2e9ca112",
   "metadata": {},
   "outputs": [],
   "source": [
    "def chk_conn(conn):\n",
    "     try:\n",
    "        conn.cursor()\n",
    "        return True\n",
    "     except Exception as ex:\n",
    "        return False\n",
    "    \n",
    "# a function that will\n",
    "# return true if there is a connection\n",
    "# or false if there is not."
   ]
  },
  {
   "cell_type": "code",
   "execution_count": 5,
   "id": "58515840",
   "metadata": {},
   "outputs": [
    {
     "name": "stdout",
     "output_type": "stream",
     "text": [
      "True\n"
     ]
    }
   ],
   "source": [
    "print(chk_conn(conn))\n",
    "# connected"
   ]
  },
  {
   "cell_type": "code",
   "execution_count": 6,
   "id": "39050ce4",
   "metadata": {},
   "outputs": [
    {
     "name": "stdout",
     "output_type": "stream",
     "text": [
      "False\n"
     ]
    }
   ],
   "source": [
    "conn.close()\n",
    "print(chk_conn(conn))\n",
    "# connection closed"
   ]
  },
  {
   "cell_type": "markdown",
   "id": "027ddbaa",
   "metadata": {},
   "source": [
    "    2. Find the different age groups in the persons database."
   ]
  },
  {
   "cell_type": "code",
   "execution_count": 7,
   "id": "d3685fca",
   "metadata": {},
   "outputs": [],
   "source": [
    "conn = sqlite3.connect(\"petsdb\")\n",
    "c = conn.cursor()"
   ]
  },
  {
   "cell_type": "code",
   "execution_count": 8,
   "id": "5ac3cf91",
   "metadata": {},
   "outputs": [
    {
     "name": "stdout",
     "output_type": "stream",
     "text": [
      "There are 2 people aged 5.\n",
      "There are 1 people aged 6.\n",
      "There are 1 people aged 7.\n",
      "There are 3 people aged 8.\n",
      "There are 1 people aged 9.\n",
      "There are 2 people aged 11.\n",
      "There are 3 people aged 12.\n",
      "There are 1 people aged 13.\n",
      "There are 4 people aged 14.\n",
      "There are 2 people aged 16.\n",
      "There are 2 people aged 17.\n",
      "There are 3 people aged 18.\n",
      "There are 1 people aged 19.\n",
      "There are 3 people aged 22.\n",
      "There are 2 people aged 23.\n",
      "There are 3 people aged 24.\n",
      "There are 2 people aged 25.\n",
      "There are 1 people aged 27.\n",
      "There are 1 people aged 30.\n",
      "There are 3 people aged 31.\n",
      "There are 1 people aged 32.\n",
      "There are 1 people aged 33.\n",
      "There are 2 people aged 34.\n",
      "There are 3 people aged 35.\n",
      "There are 3 people aged 36.\n",
      "There are 1 people aged 37.\n",
      "There are 2 people aged 39.\n",
      "There are 1 people aged 40.\n",
      "There are 1 people aged 42.\n",
      "There are 2 people aged 44.\n",
      "There are 2 people aged 48.\n",
      "There are 1 people aged 49.\n",
      "There are 1 people aged 50.\n",
      "There are 2 people aged 51.\n",
      "There are 2 people aged 52.\n",
      "There are 2 people aged 53.\n",
      "There are 2 people aged 54.\n",
      "There are 1 people aged 58.\n",
      "There are 1 people aged 59.\n",
      "There are 1 people aged 60.\n",
      "There are 1 people aged 61.\n",
      "There are 2 people aged 62.\n",
      "There are 1 people aged 63.\n",
      "There are 2 people aged 65.\n",
      "There are 2 people aged 66.\n",
      "There are 1 people aged 67.\n",
      "There are 3 people aged 68.\n",
      "There are 1 people aged 69.\n",
      "There are 1 people aged 70.\n",
      "There are 4 people aged 71.\n",
      "There are 1 people aged 72.\n",
      "There are 5 people aged 73.\n",
      "There are 3 people aged 74.\n"
     ]
    }
   ],
   "source": [
    "for ppl, age in c.execute(\"SELECT count(*), age FROM persons GROUP BY age\"):\n",
    "    print(\"There are {} people aged {}.\".format(ppl, age))\n",
    "    \n",
    "# a for loop that will get the counts\n",
    "# of the age groups from the database."
   ]
  },
  {
   "cell_type": "markdown",
   "id": "490a77b5",
   "metadata": {},
   "source": [
    "    3. Find the age group with the maximum number of people."
   ]
  },
  {
   "cell_type": "code",
   "execution_count": 9,
   "id": "e098bbe4",
   "metadata": {},
   "outputs": [
    {
     "name": "stdout",
     "output_type": "stream",
     "text": [
      "The group with the highest count (5) is age-group 73.\n"
     ]
    }
   ],
   "source": [
    "for ppl, age in c.execute(\"SELECT count(*), age FROM persons GROUP BY age ORDER BY count(*) DESC\"):\n",
    "    print(\"The group with the highest count ({}) is age-group {}.\".format(ppl,age))\n",
    "    break\n",
    "    \n",
    "# breaking the for loop after the first\n",
    "# run while ordering the query by \n",
    "# descending order will print just\n",
    "# the highest value."
   ]
  },
  {
   "cell_type": "markdown",
   "id": "428258b3",
   "metadata": {},
   "source": [
    "    4. Find the people who do not have a last name."
   ]
  },
  {
   "cell_type": "code",
   "execution_count": 19,
   "id": "dc27a852",
   "metadata": {},
   "outputs": [
    {
     "name": "stdout",
     "output_type": "stream",
     "text": [
      "(60,)\n",
      "There are 60 people without last names entered.\n"
     ]
    }
   ],
   "source": [
    "response = c.execute(\"SELECT count(*) FROM persons WHERE last_name IS null\")\n",
    "for row in response:\n",
    "    print(row)\n",
    "    print(\"There are {} people without last names entered.\".format(row[0]))\n",
    "    \n",
    "# printed the base response\n",
    "# printed the response in a nicer\n",
    "# format and stuck with that for \n",
    "# the rest of the queries."
   ]
  },
  {
   "cell_type": "markdown",
   "id": "a7994be4",
   "metadata": {},
   "source": [
    "    5. Find out how many people have more than one pet."
   ]
  },
  {
   "cell_type": "code",
   "execution_count": 21,
   "id": "cd92f77a",
   "metadata": {},
   "outputs": [
    {
     "name": "stdout",
     "output_type": "stream",
     "text": [
      "There are 43 people with more than one pet.\n"
     ]
    }
   ],
   "source": [
    "response = c.execute(\"SELECT count(*) FROM (SELECT count(owner_id) FROM pets GROUP BY owner_id HAVING count(owner_id) >1)\")\n",
    "for row in response:\n",
    "    print(\"There are {} people with more than one pet.\".format(row[0]))"
   ]
  },
  {
   "cell_type": "markdown",
   "id": "25874b98",
   "metadata": {},
   "source": [
    "    6. Find out how many pets have received treatment."
   ]
  },
  {
   "cell_type": "code",
   "execution_count": 20,
   "id": "7aae9990",
   "metadata": {},
   "outputs": [
    {
     "name": "stdout",
     "output_type": "stream",
     "text": [
      "There are 36 pets that have received treatment.\n"
     ]
    }
   ],
   "source": [
    "response = c.execute(\"SELECT count(*) FROM pets WHERE treatment_done=1\")\n",
    "for row in response:\n",
    "    print(\"There are {} pets that have received treatment.\".format(row[0]))"
   ]
  },
  {
   "cell_type": "markdown",
   "id": "e8a72711",
   "metadata": {},
   "source": [
    "    7. Find out how many pets have received treatment and the type of pet is known."
   ]
  },
  {
   "cell_type": "code",
   "execution_count": 19,
   "id": "0b6582d2",
   "metadata": {},
   "outputs": [
    {
     "name": "stdout",
     "output_type": "stream",
     "text": [
      "There are 16 pets that have received treatment with the type of pet being known.\n"
     ]
    }
   ],
   "source": [
    "response = c.execute(\"SELECT count(*) FROM pets WHERE treatment_done=1 AND pet_type IS NOT null\")\n",
    "for row in response:\n",
    "    print(\"There are {} pets that have received treatment with the type of pet being known.\".format(row[0]))"
   ]
  },
  {
   "cell_type": "markdown",
   "id": "6f6def79",
   "metadata": {},
   "source": [
    "    8. Find out how many pets are from the city called east port."
   ]
  },
  {
   "cell_type": "code",
   "execution_count": 25,
   "id": "2584b24f",
   "metadata": {},
   "outputs": [
    {
     "name": "stdout",
     "output_type": "stream",
     "text": [
      "There are 49 pets from East Port.\n"
     ]
    }
   ],
   "source": [
    "response = c.execute(\"SELECT count(*) FROM pets JOIN persons ON pets.owner_id = persons.id WHERE persons.city='east port'\")\n",
    "for row in response:\n",
    "    print(\"There are {} pets from East Port.\".format(row[0]))"
   ]
  },
  {
   "cell_type": "markdown",
   "id": "bddec8d2",
   "metadata": {},
   "source": [
    "    9. Find out how many pets are from the city called east port and received treatment."
   ]
  },
  {
   "cell_type": "code",
   "execution_count": 27,
   "id": "36f7bca8",
   "metadata": {},
   "outputs": [
    {
     "name": "stdout",
     "output_type": "stream",
     "text": [
      "There are 11 pets from East Port that have received treatment.\n"
     ]
    }
   ],
   "source": [
    "response = c.execute(\"Select count(*) FROM pets JOIN persons on pets.owner_id = persons.id WHERE persons.city='east port' AND pets.treatment_done=1\")\n",
    "for row in response:\n",
    "    print(\"There are {} pets from East Port that have received treatment.\".format(row[0]))"
   ]
  }
 ],
 "metadata": {
  "kernelspec": {
   "display_name": "Python 3 (ipykernel)",
   "language": "python",
   "name": "python3"
  },
  "language_info": {
   "codemirror_mode": {
    "name": "ipython",
    "version": 3
   },
   "file_extension": ".py",
   "mimetype": "text/x-python",
   "name": "python",
   "nbconvert_exporter": "python",
   "pygments_lexer": "ipython3",
   "version": "3.9.16"
  }
 },
 "nbformat": 4,
 "nbformat_minor": 5
}
